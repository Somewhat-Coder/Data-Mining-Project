{
 "cells": [
  {
   "cell_type": "code",
   "execution_count": 27,
   "id": "5f0b73bd",
   "metadata": {
    "vscode": {
     "languageId": "r"
    }
   },
   "outputs": [],
   "source": [
    "library(dplyr)\n",
    "library(ggplot2)\n",
    "library(readr)\n",
    "library(reshape2)"
   ]
  },
  {
   "cell_type": "code",
   "execution_count": 28,
   "id": "4c153d87",
   "metadata": {
    "vscode": {
     "languageId": "r"
    }
   },
   "outputs": [
    {
     "name": "stderr",
     "output_type": "stream",
     "text": [
      "\u001b[1mRows: \u001b[22m\u001b[34m14871\u001b[39m \u001b[1mColumns: \u001b[22m\u001b[34m18\u001b[39m\n",
      "\u001b[36m--\u001b[39m \u001b[1mColumn specification\u001b[22m \u001b[36m--------------------------------------------------------\u001b[39m\n",
      "\u001b[1mDelimiter:\u001b[22m \",\"\n",
      "\u001b[31mchr\u001b[39m (14): Model, Trans, Drive, Fuel, Cert Region, Stnd, Stnd Description, Un...\n",
      "\u001b[32mdbl\u001b[39m  (4): Displ, Cyl, Air Pollution Score, Greenhouse Gas Score\n",
      "\n",
      "\u001b[36mi\u001b[39m Use `spec()` to retrieve the full column specification for this data.\n",
      "\u001b[36mi\u001b[39m Specify the column types or set `show_col_types = FALSE` to quiet this message.\n"
     ]
    }
   ],
   "source": [
    "df <- read_csv('../Datasets/merged_alpha.csv')"
   ]
  },
  {
   "cell_type": "markdown",
   "id": "b83dc513",
   "metadata": {},
   "source": [
    "Drop Unwanted Columns"
   ]
  },
  {
   "cell_type": "code",
   "execution_count": 29,
   "id": "01e9be3a",
   "metadata": {
    "vscode": {
     "languageId": "r"
    }
   },
   "outputs": [],
   "source": [
    "df <- select(df, -c('Model', 'Stnd Description', 'Underhood ID', 'SmartWay'))"
   ]
  },
  {
   "cell_type": "code",
   "execution_count": 30,
   "id": "0351716c",
   "metadata": {
    "vscode": {
     "languageId": "r"
    }
   },
   "outputs": [
    {
     "data": {
      "text/html": [
       "<table class=\"dataframe\">\n",
       "<caption>A tibble: 14871 x 14</caption>\n",
       "<thead>\n",
       "\t<tr><th scope=col>Displ</th><th scope=col>Cyl</th><th scope=col>Trans</th><th scope=col>Drive</th><th scope=col>Fuel</th><th scope=col>Cert Region</th><th scope=col>Stnd</th><th scope=col>Veh Class</th><th scope=col>Air Pollution Score</th><th scope=col>City MPG</th><th scope=col>Hwy MPG</th><th scope=col>Cmb MPG</th><th scope=col>Greenhouse Gas Score</th><th scope=col>Comb CO2</th></tr>\n",
       "\t<tr><th scope=col>&lt;dbl&gt;</th><th scope=col>&lt;dbl&gt;</th><th scope=col>&lt;chr&gt;</th><th scope=col>&lt;chr&gt;</th><th scope=col>&lt;chr&gt;</th><th scope=col>&lt;chr&gt;</th><th scope=col>&lt;chr&gt;</th><th scope=col>&lt;chr&gt;</th><th scope=col>&lt;dbl&gt;</th><th scope=col>&lt;chr&gt;</th><th scope=col>&lt;chr&gt;</th><th scope=col>&lt;chr&gt;</th><th scope=col>&lt;dbl&gt;</th><th scope=col>&lt;chr&gt;</th></tr>\n",
       "</thead>\n",
       "<tbody>\n",
       "\t<tr><td>2.4</td><td>4</td><td>AMS-8      </td><td>2WD</td><td>Gasoline</td><td>CA</td><td>L3ULEV125</td><td>small car  </td><td>3</td><td>24</td><td>34</td><td>28</td><td>6</td><td>316</td></tr>\n",
       "\t<tr><td>2.4</td><td>4</td><td>AMS-8      </td><td>2WD</td><td>Gasoline</td><td>FA</td><td>T3B125   </td><td>small car  </td><td>3</td><td>24</td><td>34</td><td>28</td><td>6</td><td>316</td></tr>\n",
       "\t<tr><td>3.0</td><td>6</td><td>AMS-7      </td><td>4WD</td><td>Gasoline</td><td>CA</td><td>L3ULEV125</td><td>small SUV  </td><td>3</td><td>26</td><td>27</td><td>27</td><td>6</td><td>330</td></tr>\n",
       "\t<tr><td>3.0</td><td>6</td><td>AMS-7      </td><td>4WD</td><td>Gasoline</td><td>FA</td><td>T3B125   </td><td>small SUV  </td><td>3</td><td>26</td><td>27</td><td>27</td><td>6</td><td>330</td></tr>\n",
       "\t<tr><td>3.5</td><td>6</td><td>SemiAuto-9 </td><td>2WD</td><td>Gasoline</td><td>CA</td><td>L3ULEV125</td><td>small SUV  </td><td>3</td><td>20</td><td>27</td><td>23</td><td>5</td><td>387</td></tr>\n",
       "\t<tr><td>3.5</td><td>6</td><td>SemiAuto-9 </td><td>2WD</td><td>Gasoline</td><td>FA</td><td>T3B125   </td><td>small SUV  </td><td>3</td><td>20</td><td>27</td><td>23</td><td>5</td><td>387</td></tr>\n",
       "\t<tr><td>3.5</td><td>6</td><td>SemiAuto-9 </td><td>4WD</td><td>Gasoline</td><td>CA</td><td>L3ULEV125</td><td>small SUV  </td><td>3</td><td>19</td><td>26</td><td>22</td><td>4</td><td>404</td></tr>\n",
       "\t<tr><td>3.5</td><td>6</td><td>SemiAuto-9 </td><td>4WD</td><td>Gasoline</td><td>FA</td><td>T3B125   </td><td>small SUV  </td><td>3</td><td>19</td><td>26</td><td>22</td><td>4</td><td>404</td></tr>\n",
       "\t<tr><td>3.5</td><td>6</td><td>SemiAuto-9 </td><td>4WD</td><td>Gasoline</td><td>CA</td><td>L3ULEV125</td><td>small SUV  </td><td>3</td><td>19</td><td>25</td><td>21</td><td>4</td><td>415</td></tr>\n",
       "\t<tr><td>3.5</td><td>6</td><td>SemiAuto-9 </td><td>4WD</td><td>Gasoline</td><td>FA</td><td>T3B125   </td><td>small SUV  </td><td>3</td><td>19</td><td>25</td><td>21</td><td>4</td><td>415</td></tr>\n",
       "\t<tr><td>3.5</td><td>6</td><td>AMS-9      </td><td>4WD</td><td>Gasoline</td><td>CA</td><td>L3ULEV125</td><td>small car  </td><td>3</td><td>21</td><td>22</td><td>21</td><td>4</td><td>420</td></tr>\n",
       "\t<tr><td>3.5</td><td>6</td><td>AMS-9      </td><td>4WD</td><td>Gasoline</td><td>FA</td><td>T3B125   </td><td>small car  </td><td>3</td><td>21</td><td>22</td><td>21</td><td>4</td><td>420</td></tr>\n",
       "\t<tr><td>2.0</td><td>4</td><td>SemiAuto-10</td><td>2WD</td><td>Gasoline</td><td>CA</td><td>L3ULEV50 </td><td>small SUV  </td><td>6</td><td>22</td><td>28</td><td>24</td><td>5</td><td>370</td></tr>\n",
       "\t<tr><td>2.0</td><td>4</td><td>SemiAuto-10</td><td>2WD</td><td>Gasoline</td><td>FA</td><td>T3B50    </td><td>small SUV  </td><td>6</td><td>22</td><td>28</td><td>24</td><td>5</td><td>370</td></tr>\n",
       "\t<tr><td>2.0</td><td>4</td><td>SemiAuto-10</td><td>4WD</td><td>Gasoline</td><td>CA</td><td>L3ULEV50 </td><td>small SUV  </td><td>6</td><td>21</td><td>27</td><td>23</td><td>5</td><td>385</td></tr>\n",
       "\t<tr><td>2.0</td><td>4</td><td>SemiAuto-10</td><td>4WD</td><td>Gasoline</td><td>FA</td><td>T3B50    </td><td>small SUV  </td><td>6</td><td>21</td><td>27</td><td>23</td><td>5</td><td>385</td></tr>\n",
       "\t<tr><td>2.0</td><td>4</td><td>SemiAuto-10</td><td>2WD</td><td>Gasoline</td><td>CA</td><td>L3ULEV50 </td><td>small SUV  </td><td>6</td><td>22</td><td>27</td><td>24</td><td>5</td><td>374</td></tr>\n",
       "\t<tr><td>2.0</td><td>4</td><td>SemiAuto-10</td><td>2WD</td><td>Gasoline</td><td>FA</td><td>T3B50    </td><td>small SUV  </td><td>6</td><td>22</td><td>27</td><td>24</td><td>5</td><td>374</td></tr>\n",
       "\t<tr><td>2.0</td><td>4</td><td>SemiAuto-10</td><td>4WD</td><td>Gasoline</td><td>CA</td><td>L3ULEV50 </td><td>small SUV  </td><td>6</td><td>21</td><td>26</td><td>23</td><td>5</td><td>385</td></tr>\n",
       "\t<tr><td>2.0</td><td>4</td><td>SemiAuto-10</td><td>4WD</td><td>Gasoline</td><td>FA</td><td>T3B50    </td><td>small SUV  </td><td>6</td><td>21</td><td>26</td><td>23</td><td>5</td><td>385</td></tr>\n",
       "\t<tr><td>3.5</td><td>6</td><td>AMS-7      </td><td>4WD</td><td>Gasoline</td><td>CA</td><td>L3SULEV30</td><td>midsize car</td><td>7</td><td>28</td><td>29</td><td>28</td><td>6</td><td>316</td></tr>\n",
       "\t<tr><td>3.5</td><td>6</td><td>AMS-7      </td><td>4WD</td><td>Gasoline</td><td>FA</td><td>T3B30    </td><td>midsize car</td><td>7</td><td>28</td><td>29</td><td>28</td><td>6</td><td>316</td></tr>\n",
       "\t<tr><td>3.5</td><td>6</td><td>SemiAuto-10</td><td>2WD</td><td>Gasoline</td><td>CA</td><td>L3ULEV125</td><td>midsize car</td><td>3</td><td>20</td><td>29</td><td>23</td><td>5</td><td>383</td></tr>\n",
       "\t<tr><td>3.5</td><td>6</td><td>SemiAuto-10</td><td>2WD</td><td>Gasoline</td><td>FA</td><td>T3B125   </td><td>midsize car</td><td>3</td><td>20</td><td>29</td><td>23</td><td>5</td><td>383</td></tr>\n",
       "\t<tr><td>2.4</td><td>4</td><td>AMS-8      </td><td>2WD</td><td>Gasoline</td><td>CA</td><td>L3ULEV125</td><td>small car  </td><td>3</td><td>23</td><td>33</td><td>27</td><td>6</td><td>330</td></tr>\n",
       "\t<tr><td>2.4</td><td>4</td><td>AMS-8      </td><td>2WD</td><td>Gasoline</td><td>FA</td><td>T3B125   </td><td>small car  </td><td>3</td><td>23</td><td>33</td><td>27</td><td>6</td><td>330</td></tr>\n",
       "\t<tr><td>3.5</td><td>6</td><td>SemiAuto-9 </td><td>2WD</td><td>Gasoline</td><td>CA</td><td>L3ULEV125</td><td>small car  </td><td>3</td><td>20</td><td>31</td><td>24</td><td>5</td><td>376</td></tr>\n",
       "\t<tr><td>3.5</td><td>6</td><td>SemiAuto-9 </td><td>2WD</td><td>Gasoline</td><td>FA</td><td>T3B125   </td><td>small car  </td><td>3</td><td>20</td><td>31</td><td>24</td><td>5</td><td>376</td></tr>\n",
       "\t<tr><td>3.5</td><td>6</td><td>SemiAuto-9 </td><td>4WD</td><td>Gasoline</td><td>CA</td><td>L3ULEV125</td><td>small car  </td><td>3</td><td>20</td><td>29</td><td>23</td><td>5</td><td>379</td></tr>\n",
       "\t<tr><td>3.5</td><td>6</td><td>SemiAuto-9 </td><td>4WD</td><td>Gasoline</td><td>FA</td><td>T3B125   </td><td>small car  </td><td>3</td><td>20</td><td>29</td><td>23</td><td>5</td><td>379</td></tr>\n",
       "\t<tr><td>...</td><td>...</td><td>...</td><td>...</td><td>...</td><td>...</td><td>...</td><td>...</td><td>...</td><td>...</td><td>...</td><td>...</td><td>...</td><td>...</td></tr>\n",
       "\t<tr><td> 2</td><td> 4</td><td>SemiAuto-8</td><td>4WD</td><td>Gasoline            </td><td>CA</td><td>L3ULEV70 </td><td>small car    </td><td> 5</td><td>25   </td><td>33   </td><td>28   </td><td> 6</td><td>316</td></tr>\n",
       "\t<tr><td> 2</td><td> 4</td><td>SemiAuto-8</td><td>4WD</td><td>Gasoline            </td><td>FA</td><td>T3B70    </td><td>small car    </td><td> 5</td><td>25   </td><td>33   </td><td>28   </td><td> 6</td><td>316</td></tr>\n",
       "\t<tr><td> 2</td><td> 4</td><td>SemiAuto-8</td><td>4WD</td><td>Gasoline/Electricity</td><td>CA</td><td>L3SULEV30</td><td>small car    </td><td> 7</td><td>30/74</td><td>33/73</td><td>31/74</td><td> 9</td><td>99 </td></tr>\n",
       "\t<tr><td> 2</td><td> 4</td><td>SemiAuto-8</td><td>4WD</td><td>Gasoline/Electricity</td><td>FA</td><td>T3B30    </td><td>small car    </td><td> 7</td><td>30/74</td><td>33/73</td><td>31/74</td><td> 9</td><td>99 </td></tr>\n",
       "\t<tr><td> 2</td><td> 4</td><td>SemiAuto-8</td><td>4WD</td><td>Gasoline            </td><td>CA</td><td>L3SULEV30</td><td>midsize car  </td><td> 7</td><td>22   </td><td>31   </td><td>25   </td><td> 5</td><td>347</td></tr>\n",
       "\t<tr><td> 2</td><td> 4</td><td>SemiAuto-8</td><td>4WD</td><td>Gasoline            </td><td>FA</td><td>T3B30    </td><td>midsize car  </td><td> 7</td><td>22   </td><td>31   </td><td>25   </td><td> 5</td><td>347</td></tr>\n",
       "\t<tr><td> 2</td><td> 4</td><td>SemiAuto-8</td><td>4WD</td><td>Gasoline/Electricity</td><td>CA</td><td>L3SULEV30</td><td>midsize car  </td><td> 7</td><td>28/66</td><td>31/67</td><td>29/66</td><td> 9</td><td>110</td></tr>\n",
       "\t<tr><td> 2</td><td> 4</td><td>SemiAuto-8</td><td>4WD</td><td>Gasoline/Electricity</td><td>FA</td><td>T3B30    </td><td>midsize car  </td><td> 7</td><td>28/66</td><td>31/67</td><td>29/66</td><td> 9</td><td>110</td></tr>\n",
       "\t<tr><td> 2</td><td> 4</td><td>SemiAuto-8</td><td>4WD</td><td>Gasoline/Electricity</td><td>CA</td><td>L3SULEV30</td><td>station wagon</td><td> 7</td><td>30/74</td><td>33/73</td><td>31/74</td><td> 9</td><td>99 </td></tr>\n",
       "\t<tr><td> 2</td><td> 4</td><td>SemiAuto-8</td><td>4WD</td><td>Gasoline/Electricity</td><td>FA</td><td>T3B30    </td><td>station wagon</td><td> 7</td><td>30/74</td><td>33/73</td><td>31/74</td><td> 9</td><td>99 </td></tr>\n",
       "\t<tr><td> 2</td><td> 4</td><td>SemiAuto-8</td><td>4WD</td><td>Gasoline            </td><td>CA</td><td>L3ULEV70 </td><td>station wagon</td><td> 5</td><td>24   </td><td>31   </td><td>27   </td><td> 5</td><td>334</td></tr>\n",
       "\t<tr><td> 2</td><td> 4</td><td>SemiAuto-8</td><td>4WD</td><td>Gasoline            </td><td>FA</td><td>T3B70    </td><td>station wagon</td><td> 5</td><td>24   </td><td>31   </td><td>27   </td><td> 5</td><td>334</td></tr>\n",
       "\t<tr><td> 2</td><td> 4</td><td>SemiAuto-8</td><td>4WD</td><td>Gasoline            </td><td>CA</td><td>L3SULEV30</td><td>station wagon</td><td> 7</td><td>22   </td><td>29   </td><td>25   </td><td> 5</td><td>358</td></tr>\n",
       "\t<tr><td> 2</td><td> 4</td><td>SemiAuto-8</td><td>4WD</td><td>Gasoline            </td><td>FA</td><td>T3B30    </td><td>station wagon</td><td> 7</td><td>22   </td><td>29   </td><td>25   </td><td> 5</td><td>358</td></tr>\n",
       "\t<tr><td> 2</td><td> 4</td><td>SemiAuto-8</td><td>4WD</td><td>Gasoline            </td><td>CA</td><td>L3ULEV70 </td><td>small SUV    </td><td> 5</td><td>24   </td><td>30   </td><td>26   </td><td> 5</td><td>338</td></tr>\n",
       "\t<tr><td> 2</td><td> 4</td><td>SemiAuto-8</td><td>4WD</td><td>Gasoline            </td><td>FA</td><td>T3B70    </td><td>small SUV    </td><td> 5</td><td>24   </td><td>30   </td><td>26   </td><td> 5</td><td>338</td></tr>\n",
       "\t<tr><td>NA</td><td>NA</td><td>Auto-1    </td><td>2WD</td><td>Electricity         </td><td>FA</td><td>T3B0     </td><td>small SUV    </td><td>10</td><td>118  </td><td>95   </td><td>106  </td><td>10</td><td>0  </td></tr>\n",
       "\t<tr><td>NA</td><td>NA</td><td>Auto-1    </td><td>2WD</td><td>Electricity         </td><td>CA</td><td>ZEV      </td><td>small SUV    </td><td>10</td><td>118  </td><td>95   </td><td>106  </td><td>10</td><td>0  </td></tr>\n",
       "\t<tr><td>NA</td><td>NA</td><td>Auto-1    </td><td>4WD</td><td>Electricity         </td><td>FA</td><td>T3B0     </td><td>small SUV    </td><td>10</td><td>106  </td><td>90   </td><td>98   </td><td>10</td><td>0  </td></tr>\n",
       "\t<tr><td>NA</td><td>NA</td><td>Auto-1    </td><td>4WD</td><td>Electricity         </td><td>CA</td><td>ZEV      </td><td>small SUV    </td><td>10</td><td>106  </td><td>90   </td><td>98   </td><td>10</td><td>0  </td></tr>\n",
       "\t<tr><td> 2</td><td> 4</td><td>SemiAuto-8</td><td>4WD</td><td>Gasoline            </td><td>CA</td><td>L3ULEV70 </td><td>small SUV    </td><td> 5</td><td>22   </td><td>28   </td><td>25   </td><td> 5</td><td>363</td></tr>\n",
       "\t<tr><td> 2</td><td> 4</td><td>SemiAuto-8</td><td>4WD</td><td>Gasoline            </td><td>FA</td><td>T3B70    </td><td>small SUV    </td><td> 5</td><td>22   </td><td>28   </td><td>25   </td><td> 5</td><td>363</td></tr>\n",
       "\t<tr><td> 2</td><td> 4</td><td>SemiAuto-8</td><td>4WD</td><td>Gasoline/Electricity</td><td>CA</td><td>L3SULEV30</td><td>small SUV    </td><td> 7</td><td>28/66</td><td>28/60</td><td>28/63</td><td> 9</td><td>122</td></tr>\n",
       "\t<tr><td> 2</td><td> 4</td><td>SemiAuto-8</td><td>4WD</td><td>Gasoline/Electricity</td><td>FA</td><td>T3B30    </td><td>small SUV    </td><td> 7</td><td>28/66</td><td>28/60</td><td>28/63</td><td> 9</td><td>122</td></tr>\n",
       "\t<tr><td> 2</td><td> 4</td><td>SemiAuto-8</td><td>4WD</td><td>Gasoline            </td><td>CA</td><td>L3ULEV70 </td><td>standard SUV </td><td> 5</td><td>22   </td><td>27   </td><td>24   </td><td> 5</td><td>369</td></tr>\n",
       "\t<tr><td> 2</td><td> 4</td><td>SemiAuto-8</td><td>4WD</td><td>Gasoline            </td><td>FA</td><td>T3B70    </td><td>standard SUV </td><td> 5</td><td>22   </td><td>27   </td><td>24   </td><td> 5</td><td>369</td></tr>\n",
       "\t<tr><td> 2</td><td> 4</td><td>SemiAuto-8</td><td>4WD</td><td>Gasoline            </td><td>CA</td><td>L3SULEV30</td><td>standard SUV </td><td> 7</td><td>20   </td><td>26   </td><td>23   </td><td> 5</td><td>393</td></tr>\n",
       "\t<tr><td> 2</td><td> 4</td><td>SemiAuto-8</td><td>4WD</td><td>Gasoline            </td><td>FA</td><td>T3B30    </td><td>standard SUV </td><td> 7</td><td>20   </td><td>26   </td><td>23   </td><td> 5</td><td>393</td></tr>\n",
       "\t<tr><td> 2</td><td> 4</td><td>SemiAuto-8</td><td>4WD</td><td>Gasoline/Electricity</td><td>CA</td><td>L3SULEV30</td><td>standard SUV </td><td> 7</td><td>26/59</td><td>27/57</td><td>27/58</td><td> 9</td><td>137</td></tr>\n",
       "\t<tr><td> 2</td><td> 4</td><td>SemiAuto-8</td><td>4WD</td><td>Gasoline/Electricity</td><td>FA</td><td>T3B30    </td><td>standard SUV </td><td> 7</td><td>26/59</td><td>27/57</td><td>27/58</td><td> 9</td><td>137</td></tr>\n",
       "</tbody>\n",
       "</table>\n"
      ],
      "text/latex": [
       "A tibble: 14871 x 14\n",
       "\\begin{tabular}{llllllllllllll}\n",
       " Displ & Cyl & Trans & Drive & Fuel & Cert Region & Stnd & Veh Class & Air Pollution Score & City MPG & Hwy MPG & Cmb MPG & Greenhouse Gas Score & Comb CO2\\\\\n",
       " <dbl> & <dbl> & <chr> & <chr> & <chr> & <chr> & <chr> & <chr> & <dbl> & <chr> & <chr> & <chr> & <dbl> & <chr>\\\\\n",
       "\\hline\n",
       "\t 2.4 & 4 & AMS-8       & 2WD & Gasoline & CA & L3ULEV125 & small car   & 3 & 24 & 34 & 28 & 6 & 316\\\\\n",
       "\t 2.4 & 4 & AMS-8       & 2WD & Gasoline & FA & T3B125    & small car   & 3 & 24 & 34 & 28 & 6 & 316\\\\\n",
       "\t 3.0 & 6 & AMS-7       & 4WD & Gasoline & CA & L3ULEV125 & small SUV   & 3 & 26 & 27 & 27 & 6 & 330\\\\\n",
       "\t 3.0 & 6 & AMS-7       & 4WD & Gasoline & FA & T3B125    & small SUV   & 3 & 26 & 27 & 27 & 6 & 330\\\\\n",
       "\t 3.5 & 6 & SemiAuto-9  & 2WD & Gasoline & CA & L3ULEV125 & small SUV   & 3 & 20 & 27 & 23 & 5 & 387\\\\\n",
       "\t 3.5 & 6 & SemiAuto-9  & 2WD & Gasoline & FA & T3B125    & small SUV   & 3 & 20 & 27 & 23 & 5 & 387\\\\\n",
       "\t 3.5 & 6 & SemiAuto-9  & 4WD & Gasoline & CA & L3ULEV125 & small SUV   & 3 & 19 & 26 & 22 & 4 & 404\\\\\n",
       "\t 3.5 & 6 & SemiAuto-9  & 4WD & Gasoline & FA & T3B125    & small SUV   & 3 & 19 & 26 & 22 & 4 & 404\\\\\n",
       "\t 3.5 & 6 & SemiAuto-9  & 4WD & Gasoline & CA & L3ULEV125 & small SUV   & 3 & 19 & 25 & 21 & 4 & 415\\\\\n",
       "\t 3.5 & 6 & SemiAuto-9  & 4WD & Gasoline & FA & T3B125    & small SUV   & 3 & 19 & 25 & 21 & 4 & 415\\\\\n",
       "\t 3.5 & 6 & AMS-9       & 4WD & Gasoline & CA & L3ULEV125 & small car   & 3 & 21 & 22 & 21 & 4 & 420\\\\\n",
       "\t 3.5 & 6 & AMS-9       & 4WD & Gasoline & FA & T3B125    & small car   & 3 & 21 & 22 & 21 & 4 & 420\\\\\n",
       "\t 2.0 & 4 & SemiAuto-10 & 2WD & Gasoline & CA & L3ULEV50  & small SUV   & 6 & 22 & 28 & 24 & 5 & 370\\\\\n",
       "\t 2.0 & 4 & SemiAuto-10 & 2WD & Gasoline & FA & T3B50     & small SUV   & 6 & 22 & 28 & 24 & 5 & 370\\\\\n",
       "\t 2.0 & 4 & SemiAuto-10 & 4WD & Gasoline & CA & L3ULEV50  & small SUV   & 6 & 21 & 27 & 23 & 5 & 385\\\\\n",
       "\t 2.0 & 4 & SemiAuto-10 & 4WD & Gasoline & FA & T3B50     & small SUV   & 6 & 21 & 27 & 23 & 5 & 385\\\\\n",
       "\t 2.0 & 4 & SemiAuto-10 & 2WD & Gasoline & CA & L3ULEV50  & small SUV   & 6 & 22 & 27 & 24 & 5 & 374\\\\\n",
       "\t 2.0 & 4 & SemiAuto-10 & 2WD & Gasoline & FA & T3B50     & small SUV   & 6 & 22 & 27 & 24 & 5 & 374\\\\\n",
       "\t 2.0 & 4 & SemiAuto-10 & 4WD & Gasoline & CA & L3ULEV50  & small SUV   & 6 & 21 & 26 & 23 & 5 & 385\\\\\n",
       "\t 2.0 & 4 & SemiAuto-10 & 4WD & Gasoline & FA & T3B50     & small SUV   & 6 & 21 & 26 & 23 & 5 & 385\\\\\n",
       "\t 3.5 & 6 & AMS-7       & 4WD & Gasoline & CA & L3SULEV30 & midsize car & 7 & 28 & 29 & 28 & 6 & 316\\\\\n",
       "\t 3.5 & 6 & AMS-7       & 4WD & Gasoline & FA & T3B30     & midsize car & 7 & 28 & 29 & 28 & 6 & 316\\\\\n",
       "\t 3.5 & 6 & SemiAuto-10 & 2WD & Gasoline & CA & L3ULEV125 & midsize car & 3 & 20 & 29 & 23 & 5 & 383\\\\\n",
       "\t 3.5 & 6 & SemiAuto-10 & 2WD & Gasoline & FA & T3B125    & midsize car & 3 & 20 & 29 & 23 & 5 & 383\\\\\n",
       "\t 2.4 & 4 & AMS-8       & 2WD & Gasoline & CA & L3ULEV125 & small car   & 3 & 23 & 33 & 27 & 6 & 330\\\\\n",
       "\t 2.4 & 4 & AMS-8       & 2WD & Gasoline & FA & T3B125    & small car   & 3 & 23 & 33 & 27 & 6 & 330\\\\\n",
       "\t 3.5 & 6 & SemiAuto-9  & 2WD & Gasoline & CA & L3ULEV125 & small car   & 3 & 20 & 31 & 24 & 5 & 376\\\\\n",
       "\t 3.5 & 6 & SemiAuto-9  & 2WD & Gasoline & FA & T3B125    & small car   & 3 & 20 & 31 & 24 & 5 & 376\\\\\n",
       "\t 3.5 & 6 & SemiAuto-9  & 4WD & Gasoline & CA & L3ULEV125 & small car   & 3 & 20 & 29 & 23 & 5 & 379\\\\\n",
       "\t 3.5 & 6 & SemiAuto-9  & 4WD & Gasoline & FA & T3B125    & small car   & 3 & 20 & 29 & 23 & 5 & 379\\\\\n",
       "\t ... & ... & ... & ... & ... & ... & ... & ... & ... & ... & ... & ... & ... & ...\\\\\n",
       "\t  2 &  4 & SemiAuto-8 & 4WD & Gasoline             & CA & L3ULEV70  & small car     &  5 & 25    & 33    & 28    &  6 & 316\\\\\n",
       "\t  2 &  4 & SemiAuto-8 & 4WD & Gasoline             & FA & T3B70     & small car     &  5 & 25    & 33    & 28    &  6 & 316\\\\\n",
       "\t  2 &  4 & SemiAuto-8 & 4WD & Gasoline/Electricity & CA & L3SULEV30 & small car     &  7 & 30/74 & 33/73 & 31/74 &  9 & 99 \\\\\n",
       "\t  2 &  4 & SemiAuto-8 & 4WD & Gasoline/Electricity & FA & T3B30     & small car     &  7 & 30/74 & 33/73 & 31/74 &  9 & 99 \\\\\n",
       "\t  2 &  4 & SemiAuto-8 & 4WD & Gasoline             & CA & L3SULEV30 & midsize car   &  7 & 22    & 31    & 25    &  5 & 347\\\\\n",
       "\t  2 &  4 & SemiAuto-8 & 4WD & Gasoline             & FA & T3B30     & midsize car   &  7 & 22    & 31    & 25    &  5 & 347\\\\\n",
       "\t  2 &  4 & SemiAuto-8 & 4WD & Gasoline/Electricity & CA & L3SULEV30 & midsize car   &  7 & 28/66 & 31/67 & 29/66 &  9 & 110\\\\\n",
       "\t  2 &  4 & SemiAuto-8 & 4WD & Gasoline/Electricity & FA & T3B30     & midsize car   &  7 & 28/66 & 31/67 & 29/66 &  9 & 110\\\\\n",
       "\t  2 &  4 & SemiAuto-8 & 4WD & Gasoline/Electricity & CA & L3SULEV30 & station wagon &  7 & 30/74 & 33/73 & 31/74 &  9 & 99 \\\\\n",
       "\t  2 &  4 & SemiAuto-8 & 4WD & Gasoline/Electricity & FA & T3B30     & station wagon &  7 & 30/74 & 33/73 & 31/74 &  9 & 99 \\\\\n",
       "\t  2 &  4 & SemiAuto-8 & 4WD & Gasoline             & CA & L3ULEV70  & station wagon &  5 & 24    & 31    & 27    &  5 & 334\\\\\n",
       "\t  2 &  4 & SemiAuto-8 & 4WD & Gasoline             & FA & T3B70     & station wagon &  5 & 24    & 31    & 27    &  5 & 334\\\\\n",
       "\t  2 &  4 & SemiAuto-8 & 4WD & Gasoline             & CA & L3SULEV30 & station wagon &  7 & 22    & 29    & 25    &  5 & 358\\\\\n",
       "\t  2 &  4 & SemiAuto-8 & 4WD & Gasoline             & FA & T3B30     & station wagon &  7 & 22    & 29    & 25    &  5 & 358\\\\\n",
       "\t  2 &  4 & SemiAuto-8 & 4WD & Gasoline             & CA & L3ULEV70  & small SUV     &  5 & 24    & 30    & 26    &  5 & 338\\\\\n",
       "\t  2 &  4 & SemiAuto-8 & 4WD & Gasoline             & FA & T3B70     & small SUV     &  5 & 24    & 30    & 26    &  5 & 338\\\\\n",
       "\t NA & NA & Auto-1     & 2WD & Electricity          & FA & T3B0      & small SUV     & 10 & 118   & 95    & 106   & 10 & 0  \\\\\n",
       "\t NA & NA & Auto-1     & 2WD & Electricity          & CA & ZEV       & small SUV     & 10 & 118   & 95    & 106   & 10 & 0  \\\\\n",
       "\t NA & NA & Auto-1     & 4WD & Electricity          & FA & T3B0      & small SUV     & 10 & 106   & 90    & 98    & 10 & 0  \\\\\n",
       "\t NA & NA & Auto-1     & 4WD & Electricity          & CA & ZEV       & small SUV     & 10 & 106   & 90    & 98    & 10 & 0  \\\\\n",
       "\t  2 &  4 & SemiAuto-8 & 4WD & Gasoline             & CA & L3ULEV70  & small SUV     &  5 & 22    & 28    & 25    &  5 & 363\\\\\n",
       "\t  2 &  4 & SemiAuto-8 & 4WD & Gasoline             & FA & T3B70     & small SUV     &  5 & 22    & 28    & 25    &  5 & 363\\\\\n",
       "\t  2 &  4 & SemiAuto-8 & 4WD & Gasoline/Electricity & CA & L3SULEV30 & small SUV     &  7 & 28/66 & 28/60 & 28/63 &  9 & 122\\\\\n",
       "\t  2 &  4 & SemiAuto-8 & 4WD & Gasoline/Electricity & FA & T3B30     & small SUV     &  7 & 28/66 & 28/60 & 28/63 &  9 & 122\\\\\n",
       "\t  2 &  4 & SemiAuto-8 & 4WD & Gasoline             & CA & L3ULEV70  & standard SUV  &  5 & 22    & 27    & 24    &  5 & 369\\\\\n",
       "\t  2 &  4 & SemiAuto-8 & 4WD & Gasoline             & FA & T3B70     & standard SUV  &  5 & 22    & 27    & 24    &  5 & 369\\\\\n",
       "\t  2 &  4 & SemiAuto-8 & 4WD & Gasoline             & CA & L3SULEV30 & standard SUV  &  7 & 20    & 26    & 23    &  5 & 393\\\\\n",
       "\t  2 &  4 & SemiAuto-8 & 4WD & Gasoline             & FA & T3B30     & standard SUV  &  7 & 20    & 26    & 23    &  5 & 393\\\\\n",
       "\t  2 &  4 & SemiAuto-8 & 4WD & Gasoline/Electricity & CA & L3SULEV30 & standard SUV  &  7 & 26/59 & 27/57 & 27/58 &  9 & 137\\\\\n",
       "\t  2 &  4 & SemiAuto-8 & 4WD & Gasoline/Electricity & FA & T3B30     & standard SUV  &  7 & 26/59 & 27/57 & 27/58 &  9 & 137\\\\\n",
       "\\end{tabular}\n"
      ],
      "text/markdown": [
       "\n",
       "A tibble: 14871 x 14\n",
       "\n",
       "| Displ &lt;dbl&gt; | Cyl &lt;dbl&gt; | Trans &lt;chr&gt; | Drive &lt;chr&gt; | Fuel &lt;chr&gt; | Cert Region &lt;chr&gt; | Stnd &lt;chr&gt; | Veh Class &lt;chr&gt; | Air Pollution Score &lt;dbl&gt; | City MPG &lt;chr&gt; | Hwy MPG &lt;chr&gt; | Cmb MPG &lt;chr&gt; | Greenhouse Gas Score &lt;dbl&gt; | Comb CO2 &lt;chr&gt; |\n",
       "|---|---|---|---|---|---|---|---|---|---|---|---|---|---|\n",
       "| 2.4 | 4 | AMS-8       | 2WD | Gasoline | CA | L3ULEV125 | small car   | 3 | 24 | 34 | 28 | 6 | 316 |\n",
       "| 2.4 | 4 | AMS-8       | 2WD | Gasoline | FA | T3B125    | small car   | 3 | 24 | 34 | 28 | 6 | 316 |\n",
       "| 3.0 | 6 | AMS-7       | 4WD | Gasoline | CA | L3ULEV125 | small SUV   | 3 | 26 | 27 | 27 | 6 | 330 |\n",
       "| 3.0 | 6 | AMS-7       | 4WD | Gasoline | FA | T3B125    | small SUV   | 3 | 26 | 27 | 27 | 6 | 330 |\n",
       "| 3.5 | 6 | SemiAuto-9  | 2WD | Gasoline | CA | L3ULEV125 | small SUV   | 3 | 20 | 27 | 23 | 5 | 387 |\n",
       "| 3.5 | 6 | SemiAuto-9  | 2WD | Gasoline | FA | T3B125    | small SUV   | 3 | 20 | 27 | 23 | 5 | 387 |\n",
       "| 3.5 | 6 | SemiAuto-9  | 4WD | Gasoline | CA | L3ULEV125 | small SUV   | 3 | 19 | 26 | 22 | 4 | 404 |\n",
       "| 3.5 | 6 | SemiAuto-9  | 4WD | Gasoline | FA | T3B125    | small SUV   | 3 | 19 | 26 | 22 | 4 | 404 |\n",
       "| 3.5 | 6 | SemiAuto-9  | 4WD | Gasoline | CA | L3ULEV125 | small SUV   | 3 | 19 | 25 | 21 | 4 | 415 |\n",
       "| 3.5 | 6 | SemiAuto-9  | 4WD | Gasoline | FA | T3B125    | small SUV   | 3 | 19 | 25 | 21 | 4 | 415 |\n",
       "| 3.5 | 6 | AMS-9       | 4WD | Gasoline | CA | L3ULEV125 | small car   | 3 | 21 | 22 | 21 | 4 | 420 |\n",
       "| 3.5 | 6 | AMS-9       | 4WD | Gasoline | FA | T3B125    | small car   | 3 | 21 | 22 | 21 | 4 | 420 |\n",
       "| 2.0 | 4 | SemiAuto-10 | 2WD | Gasoline | CA | L3ULEV50  | small SUV   | 6 | 22 | 28 | 24 | 5 | 370 |\n",
       "| 2.0 | 4 | SemiAuto-10 | 2WD | Gasoline | FA | T3B50     | small SUV   | 6 | 22 | 28 | 24 | 5 | 370 |\n",
       "| 2.0 | 4 | SemiAuto-10 | 4WD | Gasoline | CA | L3ULEV50  | small SUV   | 6 | 21 | 27 | 23 | 5 | 385 |\n",
       "| 2.0 | 4 | SemiAuto-10 | 4WD | Gasoline | FA | T3B50     | small SUV   | 6 | 21 | 27 | 23 | 5 | 385 |\n",
       "| 2.0 | 4 | SemiAuto-10 | 2WD | Gasoline | CA | L3ULEV50  | small SUV   | 6 | 22 | 27 | 24 | 5 | 374 |\n",
       "| 2.0 | 4 | SemiAuto-10 | 2WD | Gasoline | FA | T3B50     | small SUV   | 6 | 22 | 27 | 24 | 5 | 374 |\n",
       "| 2.0 | 4 | SemiAuto-10 | 4WD | Gasoline | CA | L3ULEV50  | small SUV   | 6 | 21 | 26 | 23 | 5 | 385 |\n",
       "| 2.0 | 4 | SemiAuto-10 | 4WD | Gasoline | FA | T3B50     | small SUV   | 6 | 21 | 26 | 23 | 5 | 385 |\n",
       "| 3.5 | 6 | AMS-7       | 4WD | Gasoline | CA | L3SULEV30 | midsize car | 7 | 28 | 29 | 28 | 6 | 316 |\n",
       "| 3.5 | 6 | AMS-7       | 4WD | Gasoline | FA | T3B30     | midsize car | 7 | 28 | 29 | 28 | 6 | 316 |\n",
       "| 3.5 | 6 | SemiAuto-10 | 2WD | Gasoline | CA | L3ULEV125 | midsize car | 3 | 20 | 29 | 23 | 5 | 383 |\n",
       "| 3.5 | 6 | SemiAuto-10 | 2WD | Gasoline | FA | T3B125    | midsize car | 3 | 20 | 29 | 23 | 5 | 383 |\n",
       "| 2.4 | 4 | AMS-8       | 2WD | Gasoline | CA | L3ULEV125 | small car   | 3 | 23 | 33 | 27 | 6 | 330 |\n",
       "| 2.4 | 4 | AMS-8       | 2WD | Gasoline | FA | T3B125    | small car   | 3 | 23 | 33 | 27 | 6 | 330 |\n",
       "| 3.5 | 6 | SemiAuto-9  | 2WD | Gasoline | CA | L3ULEV125 | small car   | 3 | 20 | 31 | 24 | 5 | 376 |\n",
       "| 3.5 | 6 | SemiAuto-9  | 2WD | Gasoline | FA | T3B125    | small car   | 3 | 20 | 31 | 24 | 5 | 376 |\n",
       "| 3.5 | 6 | SemiAuto-9  | 4WD | Gasoline | CA | L3ULEV125 | small car   | 3 | 20 | 29 | 23 | 5 | 379 |\n",
       "| 3.5 | 6 | SemiAuto-9  | 4WD | Gasoline | FA | T3B125    | small car   | 3 | 20 | 29 | 23 | 5 | 379 |\n",
       "| ... | ... | ... | ... | ... | ... | ... | ... | ... | ... | ... | ... | ... | ... |\n",
       "|  2 |  4 | SemiAuto-8 | 4WD | Gasoline             | CA | L3ULEV70  | small car     |  5 | 25    | 33    | 28    |  6 | 316 |\n",
       "|  2 |  4 | SemiAuto-8 | 4WD | Gasoline             | FA | T3B70     | small car     |  5 | 25    | 33    | 28    |  6 | 316 |\n",
       "|  2 |  4 | SemiAuto-8 | 4WD | Gasoline/Electricity | CA | L3SULEV30 | small car     |  7 | 30/74 | 33/73 | 31/74 |  9 | 99  |\n",
       "|  2 |  4 | SemiAuto-8 | 4WD | Gasoline/Electricity | FA | T3B30     | small car     |  7 | 30/74 | 33/73 | 31/74 |  9 | 99  |\n",
       "|  2 |  4 | SemiAuto-8 | 4WD | Gasoline             | CA | L3SULEV30 | midsize car   |  7 | 22    | 31    | 25    |  5 | 347 |\n",
       "|  2 |  4 | SemiAuto-8 | 4WD | Gasoline             | FA | T3B30     | midsize car   |  7 | 22    | 31    | 25    |  5 | 347 |\n",
       "|  2 |  4 | SemiAuto-8 | 4WD | Gasoline/Electricity | CA | L3SULEV30 | midsize car   |  7 | 28/66 | 31/67 | 29/66 |  9 | 110 |\n",
       "|  2 |  4 | SemiAuto-8 | 4WD | Gasoline/Electricity | FA | T3B30     | midsize car   |  7 | 28/66 | 31/67 | 29/66 |  9 | 110 |\n",
       "|  2 |  4 | SemiAuto-8 | 4WD | Gasoline/Electricity | CA | L3SULEV30 | station wagon |  7 | 30/74 | 33/73 | 31/74 |  9 | 99  |\n",
       "|  2 |  4 | SemiAuto-8 | 4WD | Gasoline/Electricity | FA | T3B30     | station wagon |  7 | 30/74 | 33/73 | 31/74 |  9 | 99  |\n",
       "|  2 |  4 | SemiAuto-8 | 4WD | Gasoline             | CA | L3ULEV70  | station wagon |  5 | 24    | 31    | 27    |  5 | 334 |\n",
       "|  2 |  4 | SemiAuto-8 | 4WD | Gasoline             | FA | T3B70     | station wagon |  5 | 24    | 31    | 27    |  5 | 334 |\n",
       "|  2 |  4 | SemiAuto-8 | 4WD | Gasoline             | CA | L3SULEV30 | station wagon |  7 | 22    | 29    | 25    |  5 | 358 |\n",
       "|  2 |  4 | SemiAuto-8 | 4WD | Gasoline             | FA | T3B30     | station wagon |  7 | 22    | 29    | 25    |  5 | 358 |\n",
       "|  2 |  4 | SemiAuto-8 | 4WD | Gasoline             | CA | L3ULEV70  | small SUV     |  5 | 24    | 30    | 26    |  5 | 338 |\n",
       "|  2 |  4 | SemiAuto-8 | 4WD | Gasoline             | FA | T3B70     | small SUV     |  5 | 24    | 30    | 26    |  5 | 338 |\n",
       "| NA | NA | Auto-1     | 2WD | Electricity          | FA | T3B0      | small SUV     | 10 | 118   | 95    | 106   | 10 | 0   |\n",
       "| NA | NA | Auto-1     | 2WD | Electricity          | CA | ZEV       | small SUV     | 10 | 118   | 95    | 106   | 10 | 0   |\n",
       "| NA | NA | Auto-1     | 4WD | Electricity          | FA | T3B0      | small SUV     | 10 | 106   | 90    | 98    | 10 | 0   |\n",
       "| NA | NA | Auto-1     | 4WD | Electricity          | CA | ZEV       | small SUV     | 10 | 106   | 90    | 98    | 10 | 0   |\n",
       "|  2 |  4 | SemiAuto-8 | 4WD | Gasoline             | CA | L3ULEV70  | small SUV     |  5 | 22    | 28    | 25    |  5 | 363 |\n",
       "|  2 |  4 | SemiAuto-8 | 4WD | Gasoline             | FA | T3B70     | small SUV     |  5 | 22    | 28    | 25    |  5 | 363 |\n",
       "|  2 |  4 | SemiAuto-8 | 4WD | Gasoline/Electricity | CA | L3SULEV30 | small SUV     |  7 | 28/66 | 28/60 | 28/63 |  9 | 122 |\n",
       "|  2 |  4 | SemiAuto-8 | 4WD | Gasoline/Electricity | FA | T3B30     | small SUV     |  7 | 28/66 | 28/60 | 28/63 |  9 | 122 |\n",
       "|  2 |  4 | SemiAuto-8 | 4WD | Gasoline             | CA | L3ULEV70  | standard SUV  |  5 | 22    | 27    | 24    |  5 | 369 |\n",
       "|  2 |  4 | SemiAuto-8 | 4WD | Gasoline             | FA | T3B70     | standard SUV  |  5 | 22    | 27    | 24    |  5 | 369 |\n",
       "|  2 |  4 | SemiAuto-8 | 4WD | Gasoline             | CA | L3SULEV30 | standard SUV  |  7 | 20    | 26    | 23    |  5 | 393 |\n",
       "|  2 |  4 | SemiAuto-8 | 4WD | Gasoline             | FA | T3B30     | standard SUV  |  7 | 20    | 26    | 23    |  5 | 393 |\n",
       "|  2 |  4 | SemiAuto-8 | 4WD | Gasoline/Electricity | CA | L3SULEV30 | standard SUV  |  7 | 26/59 | 27/57 | 27/58 |  9 | 137 |\n",
       "|  2 |  4 | SemiAuto-8 | 4WD | Gasoline/Electricity | FA | T3B30     | standard SUV  |  7 | 26/59 | 27/57 | 27/58 |  9 | 137 |\n",
       "\n"
      ],
      "text/plain": [
       "      Displ Cyl Trans       Drive Fuel                 Cert Region Stnd     \n",
       "1     2.4   4   AMS-8       2WD   Gasoline             CA          L3ULEV125\n",
       "2     2.4   4   AMS-8       2WD   Gasoline             FA          T3B125   \n",
       "3     3.0   6   AMS-7       4WD   Gasoline             CA          L3ULEV125\n",
       "4     3.0   6   AMS-7       4WD   Gasoline             FA          T3B125   \n",
       "5     3.5   6   SemiAuto-9  2WD   Gasoline             CA          L3ULEV125\n",
       "6     3.5   6   SemiAuto-9  2WD   Gasoline             FA          T3B125   \n",
       "7     3.5   6   SemiAuto-9  4WD   Gasoline             CA          L3ULEV125\n",
       "8     3.5   6   SemiAuto-9  4WD   Gasoline             FA          T3B125   \n",
       "9     3.5   6   SemiAuto-9  4WD   Gasoline             CA          L3ULEV125\n",
       "10    3.5   6   SemiAuto-9  4WD   Gasoline             FA          T3B125   \n",
       "11    3.5   6   AMS-9       4WD   Gasoline             CA          L3ULEV125\n",
       "12    3.5   6   AMS-9       4WD   Gasoline             FA          T3B125   \n",
       "13    2.0   4   SemiAuto-10 2WD   Gasoline             CA          L3ULEV50 \n",
       "14    2.0   4   SemiAuto-10 2WD   Gasoline             FA          T3B50    \n",
       "15    2.0   4   SemiAuto-10 4WD   Gasoline             CA          L3ULEV50 \n",
       "16    2.0   4   SemiAuto-10 4WD   Gasoline             FA          T3B50    \n",
       "17    2.0   4   SemiAuto-10 2WD   Gasoline             CA          L3ULEV50 \n",
       "18    2.0   4   SemiAuto-10 2WD   Gasoline             FA          T3B50    \n",
       "19    2.0   4   SemiAuto-10 4WD   Gasoline             CA          L3ULEV50 \n",
       "20    2.0   4   SemiAuto-10 4WD   Gasoline             FA          T3B50    \n",
       "21    3.5   6   AMS-7       4WD   Gasoline             CA          L3SULEV30\n",
       "22    3.5   6   AMS-7       4WD   Gasoline             FA          T3B30    \n",
       "23    3.5   6   SemiAuto-10 2WD   Gasoline             CA          L3ULEV125\n",
       "24    3.5   6   SemiAuto-10 2WD   Gasoline             FA          T3B125   \n",
       "25    2.4   4   AMS-8       2WD   Gasoline             CA          L3ULEV125\n",
       "26    2.4   4   AMS-8       2WD   Gasoline             FA          T3B125   \n",
       "27    3.5   6   SemiAuto-9  2WD   Gasoline             CA          L3ULEV125\n",
       "28    3.5   6   SemiAuto-9  2WD   Gasoline             FA          T3B125   \n",
       "29    3.5   6   SemiAuto-9  4WD   Gasoline             CA          L3ULEV125\n",
       "30    3.5   6   SemiAuto-9  4WD   Gasoline             FA          T3B125   \n",
       "...   ...   ... ...         ...   ...                  ...         ...      \n",
       "14842  2     4  SemiAuto-8  4WD   Gasoline             CA          L3ULEV70 \n",
       "14843  2     4  SemiAuto-8  4WD   Gasoline             FA          T3B70    \n",
       "14844  2     4  SemiAuto-8  4WD   Gasoline/Electricity CA          L3SULEV30\n",
       "14845  2     4  SemiAuto-8  4WD   Gasoline/Electricity FA          T3B30    \n",
       "14846  2     4  SemiAuto-8  4WD   Gasoline             CA          L3SULEV30\n",
       "14847  2     4  SemiAuto-8  4WD   Gasoline             FA          T3B30    \n",
       "14848  2     4  SemiAuto-8  4WD   Gasoline/Electricity CA          L3SULEV30\n",
       "14849  2     4  SemiAuto-8  4WD   Gasoline/Electricity FA          T3B30    \n",
       "14850  2     4  SemiAuto-8  4WD   Gasoline/Electricity CA          L3SULEV30\n",
       "14851  2     4  SemiAuto-8  4WD   Gasoline/Electricity FA          T3B30    \n",
       "14852  2     4  SemiAuto-8  4WD   Gasoline             CA          L3ULEV70 \n",
       "14853  2     4  SemiAuto-8  4WD   Gasoline             FA          T3B70    \n",
       "14854  2     4  SemiAuto-8  4WD   Gasoline             CA          L3SULEV30\n",
       "14855  2     4  SemiAuto-8  4WD   Gasoline             FA          T3B30    \n",
       "14856  2     4  SemiAuto-8  4WD   Gasoline             CA          L3ULEV70 \n",
       "14857  2     4  SemiAuto-8  4WD   Gasoline             FA          T3B70    \n",
       "14858 NA    NA  Auto-1      2WD   Electricity          FA          T3B0     \n",
       "14859 NA    NA  Auto-1      2WD   Electricity          CA          ZEV      \n",
       "14860 NA    NA  Auto-1      4WD   Electricity          FA          T3B0     \n",
       "14861 NA    NA  Auto-1      4WD   Electricity          CA          ZEV      \n",
       "14862  2     4  SemiAuto-8  4WD   Gasoline             CA          L3ULEV70 \n",
       "14863  2     4  SemiAuto-8  4WD   Gasoline             FA          T3B70    \n",
       "14864  2     4  SemiAuto-8  4WD   Gasoline/Electricity CA          L3SULEV30\n",
       "14865  2     4  SemiAuto-8  4WD   Gasoline/Electricity FA          T3B30    \n",
       "14866  2     4  SemiAuto-8  4WD   Gasoline             CA          L3ULEV70 \n",
       "14867  2     4  SemiAuto-8  4WD   Gasoline             FA          T3B70    \n",
       "14868  2     4  SemiAuto-8  4WD   Gasoline             CA          L3SULEV30\n",
       "14869  2     4  SemiAuto-8  4WD   Gasoline             FA          T3B30    \n",
       "14870  2     4  SemiAuto-8  4WD   Gasoline/Electricity CA          L3SULEV30\n",
       "14871  2     4  SemiAuto-8  4WD   Gasoline/Electricity FA          T3B30    \n",
       "      Veh Class     Air Pollution Score City MPG Hwy MPG Cmb MPG\n",
       "1     small car     3                   24       34      28     \n",
       "2     small car     3                   24       34      28     \n",
       "3     small SUV     3                   26       27      27     \n",
       "4     small SUV     3                   26       27      27     \n",
       "5     small SUV     3                   20       27      23     \n",
       "6     small SUV     3                   20       27      23     \n",
       "7     small SUV     3                   19       26      22     \n",
       "8     small SUV     3                   19       26      22     \n",
       "9     small SUV     3                   19       25      21     \n",
       "10    small SUV     3                   19       25      21     \n",
       "11    small car     3                   21       22      21     \n",
       "12    small car     3                   21       22      21     \n",
       "13    small SUV     6                   22       28      24     \n",
       "14    small SUV     6                   22       28      24     \n",
       "15    small SUV     6                   21       27      23     \n",
       "16    small SUV     6                   21       27      23     \n",
       "17    small SUV     6                   22       27      24     \n",
       "18    small SUV     6                   22       27      24     \n",
       "19    small SUV     6                   21       26      23     \n",
       "20    small SUV     6                   21       26      23     \n",
       "21    midsize car   7                   28       29      28     \n",
       "22    midsize car   7                   28       29      28     \n",
       "23    midsize car   3                   20       29      23     \n",
       "24    midsize car   3                   20       29      23     \n",
       "25    small car     3                   23       33      27     \n",
       "26    small car     3                   23       33      27     \n",
       "27    small car     3                   20       31      24     \n",
       "28    small car     3                   20       31      24     \n",
       "29    small car     3                   20       29      23     \n",
       "30    small car     3                   20       29      23     \n",
       "...   ...           ...                 ...      ...     ...    \n",
       "14842 small car      5                  25       33      28     \n",
       "14843 small car      5                  25       33      28     \n",
       "14844 small car      7                  30/74    33/73   31/74  \n",
       "14845 small car      7                  30/74    33/73   31/74  \n",
       "14846 midsize car    7                  22       31      25     \n",
       "14847 midsize car    7                  22       31      25     \n",
       "14848 midsize car    7                  28/66    31/67   29/66  \n",
       "14849 midsize car    7                  28/66    31/67   29/66  \n",
       "14850 station wagon  7                  30/74    33/73   31/74  \n",
       "14851 station wagon  7                  30/74    33/73   31/74  \n",
       "14852 station wagon  5                  24       31      27     \n",
       "14853 station wagon  5                  24       31      27     \n",
       "14854 station wagon  7                  22       29      25     \n",
       "14855 station wagon  7                  22       29      25     \n",
       "14856 small SUV      5                  24       30      26     \n",
       "14857 small SUV      5                  24       30      26     \n",
       "14858 small SUV     10                  118      95      106    \n",
       "14859 small SUV     10                  118      95      106    \n",
       "14860 small SUV     10                  106      90      98     \n",
       "14861 small SUV     10                  106      90      98     \n",
       "14862 small SUV      5                  22       28      25     \n",
       "14863 small SUV      5                  22       28      25     \n",
       "14864 small SUV      7                  28/66    28/60   28/63  \n",
       "14865 small SUV      7                  28/66    28/60   28/63  \n",
       "14866 standard SUV   5                  22       27      24     \n",
       "14867 standard SUV   5                  22       27      24     \n",
       "14868 standard SUV   7                  20       26      23     \n",
       "14869 standard SUV   7                  20       26      23     \n",
       "14870 standard SUV   7                  26/59    27/57   27/58  \n",
       "14871 standard SUV   7                  26/59    27/57   27/58  \n",
       "      Greenhouse Gas Score Comb CO2\n",
       "1     6                    316     \n",
       "2     6                    316     \n",
       "3     6                    330     \n",
       "4     6                    330     \n",
       "5     5                    387     \n",
       "6     5                    387     \n",
       "7     4                    404     \n",
       "8     4                    404     \n",
       "9     4                    415     \n",
       "10    4                    415     \n",
       "11    4                    420     \n",
       "12    4                    420     \n",
       "13    5                    370     \n",
       "14    5                    370     \n",
       "15    5                    385     \n",
       "16    5                    385     \n",
       "17    5                    374     \n",
       "18    5                    374     \n",
       "19    5                    385     \n",
       "20    5                    385     \n",
       "21    6                    316     \n",
       "22    6                    316     \n",
       "23    5                    383     \n",
       "24    5                    383     \n",
       "25    6                    330     \n",
       "26    6                    330     \n",
       "27    5                    376     \n",
       "28    5                    376     \n",
       "29    5                    379     \n",
       "30    5                    379     \n",
       "...   ...                  ...     \n",
       "14842  6                   316     \n",
       "14843  6                   316     \n",
       "14844  9                   99      \n",
       "14845  9                   99      \n",
       "14846  5                   347     \n",
       "14847  5                   347     \n",
       "14848  9                   110     \n",
       "14849  9                   110     \n",
       "14850  9                   99      \n",
       "14851  9                   99      \n",
       "14852  5                   334     \n",
       "14853  5                   334     \n",
       "14854  5                   358     \n",
       "14855  5                   358     \n",
       "14856  5                   338     \n",
       "14857  5                   338     \n",
       "14858 10                   0       \n",
       "14859 10                   0       \n",
       "14860 10                   0       \n",
       "14861 10                   0       \n",
       "14862  5                   363     \n",
       "14863  5                   363     \n",
       "14864  9                   122     \n",
       "14865  9                   122     \n",
       "14866  5                   369     \n",
       "14867  5                   369     \n",
       "14868  5                   393     \n",
       "14869  5                   393     \n",
       "14870  9                   137     \n",
       "14871  9                   137     "
      ]
     },
     "metadata": {},
     "output_type": "display_data"
    }
   ],
   "source": [
    "df"
   ]
  },
  {
   "cell_type": "code",
   "execution_count": 31,
   "id": "fe17c545",
   "metadata": {
    "vscode": {
     "languageId": "r"
    }
   },
   "outputs": [
    {
     "data": {
      "text/plain": [
       "\n",
       "   1    2    3    4    5    6    7    8    9   10 \n",
       " 242  771 2248 3318 3838 1556  889  370  228 1411 "
      ]
     },
     "metadata": {},
     "output_type": "display_data"
    }
   ],
   "source": [
    "table(df$'Greenhouse Gas Score')"
   ]
  },
  {
   "cell_type": "code",
   "execution_count": 32,
   "id": "c139844f",
   "metadata": {
    "vscode": {
     "languageId": "r"
    }
   },
   "outputs": [],
   "source": [
    "split_values <- function(value) {\n",
    "  strsplit(value, '/')[[1]][1]\n",
    "}\n",
    "\n",
    "df$'City MPG' <- sapply(df$'City MPG', split_values)\n",
    "df$'Hwy MPG' <- sapply(df$'Hwy MPG', split_values)\n",
    "df$'Cmb MPG' <- sapply(df$'Cmb MPG', split_values)\n",
    "df$'Comb CO2' <- sapply(df$'Comb CO2', split_values)\n"
   ]
  },
  {
   "cell_type": "code",
   "execution_count": 33,
   "id": "306aa29e",
   "metadata": {
    "vscode": {
     "languageId": "r"
    }
   },
   "outputs": [],
   "source": [
    "df <- na.omit(df)"
   ]
  },
  {
   "cell_type": "code",
   "execution_count": 34,
   "id": "5824d3f1",
   "metadata": {
    "vscode": {
     "languageId": "r"
    }
   },
   "outputs": [],
   "source": [
    "df = unique(df)"
   ]
  },
  {
   "cell_type": "code",
   "execution_count": 35,
   "id": "dcaff01f",
   "metadata": {
    "vscode": {
     "languageId": "r"
    }
   },
   "outputs": [
    {
     "name": "stdout",
     "output_type": "stream",
     "text": [
      "tibble [8,300 x 14] (S3: tbl_df/tbl/data.frame)\n",
      " $ Displ               : num [1:8300] 2.4 2.4 3 3 3.5 3.5 3.5 3.5 3.5 3.5 ...\n",
      " $ Cyl                 : num [1:8300] 4 4 6 6 6 6 6 6 6 6 ...\n",
      " $ Trans               : chr [1:8300] \"AMS-8\" \"AMS-8\" \"AMS-7\" \"AMS-7\" ...\n",
      " $ Drive               : chr [1:8300] \"2WD\" \"2WD\" \"4WD\" \"4WD\" ...\n",
      " $ Fuel                : chr [1:8300] \"Gasoline\" \"Gasoline\" \"Gasoline\" \"Gasoline\" ...\n",
      " $ Cert Region         : chr [1:8300] \"CA\" \"FA\" \"CA\" \"FA\" ...\n",
      " $ Stnd                : chr [1:8300] \"L3ULEV125\" \"T3B125\" \"L3ULEV125\" \"T3B125\" ...\n",
      " $ Veh Class           : chr [1:8300] \"small car\" \"small car\" \"small SUV\" \"small SUV\" ...\n",
      " $ Air Pollution Score : num [1:8300] 3 3 3 3 3 3 3 3 3 3 ...\n",
      " $ City MPG            : Named chr [1:8300] \"24\" \"24\" \"26\" \"26\" ...\n",
      "  ..- attr(*, \"names\")= chr [1:8300] \"24\" \"24\" \"26\" \"26\" ...\n",
      " $ Hwy MPG             : Named chr [1:8300] \"34\" \"34\" \"27\" \"27\" ...\n",
      "  ..- attr(*, \"names\")= chr [1:8300] \"34\" \"34\" \"27\" \"27\" ...\n",
      " $ Cmb MPG             : Named chr [1:8300] \"28\" \"28\" \"27\" \"27\" ...\n",
      "  ..- attr(*, \"names\")= chr [1:8300] \"28\" \"28\" \"27\" \"27\" ...\n",
      " $ Greenhouse Gas Score: num [1:8300] 6 6 6 6 5 5 4 4 4 4 ...\n",
      " $ Comb CO2            : Named chr [1:8300] \"316\" \"316\" \"330\" \"330\" ...\n",
      "  ..- attr(*, \"names\")= chr [1:8300] \"316\" \"316\" \"330\" \"330\" ...\n",
      " - attr(*, \"na.action\")= 'omit' Named int [1:1105] 123 124 313 314 317 318 355 414 415 685 ...\n",
      "  ..- attr(*, \"names\")= chr [1:1105] \"123\" \"124\" \"313\" \"314\" ...\n"
     ]
    }
   ],
   "source": [
    "str(df)"
   ]
  },
  {
   "cell_type": "code",
   "execution_count": 36,
   "id": "edf4fe40",
   "metadata": {
    "vscode": {
     "languageId": "r"
    }
   },
   "outputs": [],
   "source": [
    "\n",
    "cols <- c('Displ', 'Cyl', 'Greenhouse Gas Score', 'Comb CO2', 'City MPG')\n",
    "df[cols] <- sapply(df[cols], as.numeric)\n",
    "\n",
    "for (col in cols) {\n",
    "  quartiles <- quantile(df[[col]], c(0.2, 0.7))\n",
    "  q1 <- quartiles[1]\n",
    "  q3 <- quartiles[2]\n",
    "\n",
    "  low_bound <- q1 - 1.5 * (q3 - q1)\n",
    "  upp_bound <- q3 + 1.5 * (q3 - q1)\n",
    "\n",
    "  df <- df[df[[col]] >= low_bound & df[[col]] <= upp_bound, ]\n",
    "}"
   ]
  },
  {
   "cell_type": "code",
   "execution_count": 37,
   "id": "e9cb9f2e",
   "metadata": {
    "vscode": {
     "languageId": "r"
    }
   },
   "outputs": [],
   "source": [
    "cols <- c('Trans', 'Drive', 'Veh_Class', 'Stnd', 'Fuel')\n",
    "\n",
    "\n",
    "df$Trans <- as.numeric(factor(df$Trans))\n",
    "df$Drive <- as.numeric(factor(df$Drive))\n",
    "df$'Veh Class' <- as.numeric(factor(df$'Veh Class'))\n",
    "df$Stnd <- as.numeric(factor(df$Stnd))\n",
    "df$Fuel <- as.numeric(factor(df$Fuel))\n"
   ]
  },
  {
   "cell_type": "code",
   "execution_count": 38,
   "id": "4bba4758",
   "metadata": {
    "vscode": {
     "languageId": "r"
    }
   },
   "outputs": [],
   "source": [
    "df <- select(df, -c('Cyl', 'Greenhouse Gas Score', 'Hwy MPG', 'Cmb MPG', 'Cert Region'))"
   ]
  },
  {
   "cell_type": "code",
   "execution_count": 39,
   "id": "b3f16404",
   "metadata": {
    "vscode": {
     "languageId": "r"
    }
   },
   "outputs": [],
   "source": [
    "write_csv(df, '../Cleaned Datasets R/emissions_cleaned.csv')"
   ]
  }
 ],
 "metadata": {
  "kernelspec": {
   "display_name": "R",
   "language": "R",
   "name": "ir"
  },
  "language_info": {
   "codemirror_mode": "r",
   "file_extension": ".r",
   "mimetype": "text/x-r-source",
   "name": "R",
   "pygments_lexer": "r",
   "version": "4.4.0"
  }
 },
 "nbformat": 4,
 "nbformat_minor": 5
}
